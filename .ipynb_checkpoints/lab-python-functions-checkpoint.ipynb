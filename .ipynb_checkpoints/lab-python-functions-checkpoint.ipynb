{
 "cells": [
  {
   "cell_type": "markdown",
   "id": "25d7736c-ba17-4aff-b6bb-66eba20fbf4e",
   "metadata": {},
   "source": [
    "# Lab | Functions"
   ]
  },
  {
   "cell_type": "markdown",
   "id": "0c581062-8967-4d93-b06e-62833222f930",
   "metadata": {
    "tags": []
   },
   "source": [
    "## Exercise: Managing Customer Orders with Functions\n",
    "\n",
    "In the previous exercise, you improved the code for managing customer orders by using loops and flow control. Now, let's take it a step further and refactor the code by introducing functions.\n",
    "\n",
    "Follow the steps below to complete the exercise:\n",
    "\n",
    "1. Define a function named `initialize_inventory` that takes `products` as a parameter. Inside the function, implement the code for initializing the inventory dictionary using a loop and user input.\n",
    "\n",
    "2. Define a function named `get_customer_orders` that takes no parameters. Inside the function, implement the code for prompting the user to enter the product names using a loop. The function should return the `customer_orders` set.\n",
    "\n",
    "3. Define a function named `update_inventory` that takes `customer_orders` and `inventory` as parameters. Inside the function, implement the code for updating the inventory dictionary based on the customer orders.\n",
    "\n",
    "4. Define a function named `calculate_order_statistics` that takes `customer_orders` and `products` as parameters. Inside the function, implement the code for calculating the order statistics (total products ordered, and percentage of unique products ordered). The function should return these values.\n",
    "\n",
    "5. Define a function named `print_order_statistics` that takes `order_statistics` as a parameter. Inside the function, implement the code for printing the order statistics.\n",
    "\n",
    "6. Define a function named `print_updated_inventory` that takes `inventory` as a parameter. Inside the function, implement the code for printing the updated inventory.\n",
    "\n",
    "7. Call the functions in the appropriate sequence to execute the program and manage customer orders.\n",
    "\n",
    "Hints for functions:\n",
    "\n",
    "- Consider the input parameters required for each function and their return values.\n",
    "- Utilize function parameters and return values to transfer data between functions.\n",
    "- Test your functions individually to ensure they work correctly.\n",
    "\n",
    "\n"
   ]
  },
  {
   "cell_type": "code",
   "execution_count": 9,
   "id": "f0f3617d-0d6e-4613-a5ee-f075491b53a4",
   "metadata": {},
   "outputs": [],
   "source": [
    "# 1. Define a function named `initialize_inventory` that takes `products` as a parameter. \n",
    "# Inside the function, implement the code for initializing the inventory dictionary using a loop and user input.\n",
    "\n",
    "def initialize_inventory (products):\n",
    "    \"\"\"\n",
    "    creates a dictionary from products and stock\n",
    "    takes a list as argument\n",
    "    outputs a dictionary\n",
    "    \"\"\"\n",
    "    inventory = {}\n",
    "    for i in products:\n",
    "        values = int(input(f\"How many {i} do you have in stock:\"))\n",
    "        inventory.update({i: values})\n",
    "    \n",
    "    return inventory"
   ]
  },
  {
   "cell_type": "code",
   "execution_count": 11,
   "id": "935e6a04-f4a1-40af-bae3-6c28a3db8863",
   "metadata": {},
   "outputs": [],
   "source": [
    "# 2. Define a function named `get_customer_orders` that takes no parameters.\n",
    "# Inside the function, implement the code for prompting the user to enter the product names using a loop.\n",
    "# The function should return the `customer_orders` set.\n",
    "\n",
    "def get_customer_orders():\n",
    "    customer_orders = set()\n",
    "    products_sub = products.copy()\n",
    "    order_check=\"y\"\n",
    "    while order_check == \"y\":\n",
    "        choice = input(f\"Please choose an item from {products_sub}:\").lower()\n",
    "        if choice in products_sub:\n",
    "            customer_orders.add(choice)\n",
    "            products_sub.remove(choice)\n",
    "            order_check = (input(\"Do you want to add another product (y/n)?: \").lower())\n",
    "\n",
    "    return customer_orders"
   ]
  },
  {
   "cell_type": "code",
   "execution_count": 13,
   "id": "f094cd01-d81a-4063-a5fa-e17750b2191f",
   "metadata": {},
   "outputs": [],
   "source": [
    "# 3. Define a function named `update_inventory` that takes `customer_orders` and `inventory` as parameters.\n",
    "# Inside the function, implement the code for updating the inventory dictionary based on the customer orders.\n",
    "\n",
    "def update_inventory(customer_orders, inventory):\n",
    "    for i in customer_orders:\n",
    "        value = inventory[i]\n",
    "        inventory.update({i: value-1})\n",
    "        \n",
    "    return inventory"
   ]
  },
  {
   "cell_type": "code",
   "execution_count": 15,
   "id": "12f34d9f-4bd9-4c14-ad5f-bfda1a72f96e",
   "metadata": {},
   "outputs": [],
   "source": [
    "# 4. Define a function named `calculate_order_statistics` that takes `customer_orders` and `products` as parameters.\n",
    "# Inside the function, implement the code for calculating the order statistics (total products ordered, and percentage of unique products ordered).\n",
    "# The function should return these values.\n",
    "\n",
    "def calculate_order_statistics(customer_orders, products):\n",
    "    order = len(customer_orders)\n",
    "    uniques = int(order/len(products) * 100 )\n",
    "    order_stat = (order, uniques)\n",
    "\n",
    "    return order_stat"
   ]
  },
  {
   "cell_type": "code",
   "execution_count": 17,
   "id": "64cace6f-bbc6-4acd-ad9a-bd3bbd6af382",
   "metadata": {},
   "outputs": [],
   "source": [
    "# 5. Define a function named `print_order_statistics` that takes `order_statistics` as a parameter.\n",
    "# Inside the function, implement the code for printing the order statistics.\n",
    "\n",
    "def print_order_statistics(order_statistics):\n",
    "    print(f\"Total products ordered is: {order_statistics[0]}, with {order_statistics[1]}% unique values\")\n",
    "    "
   ]
  },
  {
   "cell_type": "code",
   "execution_count": 19,
   "id": "f91028a4-3115-4730-b6fc-f069f02bb6ee",
   "metadata": {},
   "outputs": [],
   "source": [
    "# 6. Define a function named `print_updated_inventory` that takes `inventory` as a parameter.\n",
    "# Inside the function, implement the code for printing the updated inventory.\n",
    "def print_updated_inventory(inventory):\n",
    "    for z in inventory:\n",
    "        print(z + \" : \" + str(inventory[z]))\n",
    "    "
   ]
  },
  {
   "cell_type": "code",
   "execution_count": null,
   "id": "e953f2fb-6d20-4614-adfd-d228a9ffc124",
   "metadata": {},
   "outputs": [],
   "source": [
    "# 7. Call the functions in the appropriate sequence to execute the program and manage customer orders.\n",
    "\n",
    "products = [\"t-shirt\", \"mug\", \"keychain\",\"hat\", \"book\"]\n",
    "inven = initialize_inventory(products)\n",
    "cust_order = get_customer_orders()\n",
    "ostat = calculate_order_statistics(cust_order, products)\n",
    "print_order_statistics(ostat)\n",
    "uinv = update_inventory(cust_order, inven)\n",
    "print_updated_inventory(uinv)"
   ]
  },
  {
   "cell_type": "code",
   "execution_count": null,
   "id": "e466f434-806c-4817-adc2-9549955ef3f3",
   "metadata": {},
   "outputs": [],
   "source": []
  }
 ],
 "metadata": {
  "kernelspec": {
   "display_name": "Python 3 (ipykernel)",
   "language": "python",
   "name": "python3"
  },
  "language_info": {
   "codemirror_mode": {
    "name": "ipython",
    "version": 3
   },
   "file_extension": ".py",
   "mimetype": "text/x-python",
   "name": "python",
   "nbconvert_exporter": "python",
   "pygments_lexer": "ipython3",
   "version": "3.12.4"
  }
 },
 "nbformat": 4,
 "nbformat_minor": 5
}
